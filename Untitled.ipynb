{
 "cells": [
  {
   "cell_type": "code",
   "execution_count": 9,
   "id": "015dedad-4c61-408f-bf17-2f56a89538c0",
   "metadata": {},
   "outputs": [],
   "source": [
    "from pyvis.network import Network \n",
    "import networkx as nx\n",
    "from pprint import pprint as pp"
   ]
  },
  {
   "cell_type": "code",
   "execution_count": 23,
   "id": "ec8e1da4-df98-4436-9f49-e25d4e3a0bad",
   "metadata": {},
   "outputs": [
    {
     "name": "stdout",
     "output_type": "stream",
     "text": [
      "[0, 1, 2, 3, 4, 5, 6, 7, 8, 9]\n"
     ]
    },
    {
     "data": {
      "text/html": [
       "\n",
       "        <iframe\n",
       "            width=\"100%\"\n",
       "            height=\"750px\"\n",
       "            src=\"example.html\"\n",
       "            frameborder=\"0\"\n",
       "            allowfullscreen\n",
       "            \n",
       "        ></iframe>\n",
       "        "
      ],
      "text/plain": [
       "<IPython.lib.display.IFrame at 0x7f16867d38b0>"
      ]
     },
     "execution_count": 23,
     "metadata": {},
     "output_type": "execute_result"
    }
   ],
   "source": [
    "g = Network(notebook=True,\n",
    "            cdn_resources=\"remote\",\n",
    "            height=\"750px\",\n",
    "            width=\"100%\",\n",
    "            select_menu=True,\n",
    "            filter_menu=True,)\n",
    "nxg = nx.complete_graph(10)\n",
    "g.from_nx(nxg)\n",
    "g.get_node(4)[\"color\"] = \"red\"\n",
    "g.get_node(8)[\"color\"] = \"#00ff00\"\n",
    "# node_4 = g.get_node(4)[\"color\"] = \"red\"\n",
    "# node_4[\"color\"] = \"red\"\n",
    "print(f\"{g.get_nodes()}\")\n",
    "g.show(\"example.html\")"
   ]
  },
  {
   "cell_type": "code",
   "execution_count": 3,
   "id": "66d04674",
   "metadata": {},
   "outputs": [],
   "source": [
    "from pyvis.network import Network\n",
    "net = Network()\n",
    "net.add_nodes(\n",
    "    [id for id in range(1,11)],\n",
    "    label=['Pod_'.join(str(id)) for id in (range(1,11))],\n",
    "    color=[\"#00E5FF\" for id in range(1,11)]\n",
    ")\n",
    "net.show(\"net.html\")\n"
   ]
  },
  {
   "cell_type": "code",
   "execution_count": 4,
   "id": "fe4684a5",
   "metadata": {},
   "outputs": [
    {
     "name": "stdout",
     "output_type": "stream",
     "text": [
      "['example.html', 'Untitled.ipynb', 'graph-data-extraction', '.ipynb_checkpoints', 'net.html', 'graph-visualizer', 'lib', 'venv']\n"
     ]
    }
   ],
   "source": [
    "import os\n",
    "print(os.listdir())"
   ]
  },
  {
   "cell_type": "code",
   "execution_count": 5,
   "id": "20eb5ba1",
   "metadata": {},
   "outputs": [
    {
     "name": "stdout",
     "output_type": "stream",
     "text": [
      "['example.html', 'Untitled.ipynb', 'graph-data-extraction', '.ipynb_checkpoints', 'net.html', 'graph-visualizer', 'lib', 'venv']\n"
     ]
    }
   ],
   "source": [
    "from pyvis.network import Network\n",
    "import networkx as nx\n",
    "\n",
    "number_of_nodes = 5\n",
    "g = Network(notebook=True,\n",
    "        cdn_resources=\"remote\",\n",
    "        height=\"1000px\",\n",
    "        width=\"100%\",\n",
    "        bgcolor=\"#222222\", \n",
    "        font_color=\"white\")\n",
    "nxg = nx.complete_graph(number_of_nodes)\n",
    "g.from_nx(nxg)\n",
    "g.show(\"example.html\")\n",
    "\n",
    "\n",
    "import os\n",
    "print(os.listdir())"
   ]
  }
 ],
 "metadata": {
  "kernelspec": {
   "display_name": "venv",
   "language": "python",
   "name": "python3"
  },
  "language_info": {
   "codemirror_mode": {
    "name": "ipython",
    "version": 3
   },
   "file_extension": ".py",
   "mimetype": "text/x-python",
   "name": "python",
   "nbconvert_exporter": "python",
   "pygments_lexer": "ipython3",
   "version": "3.10.12"
  }
 },
 "nbformat": 4,
 "nbformat_minor": 5
}
